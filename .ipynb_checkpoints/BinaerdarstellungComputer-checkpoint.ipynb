{
 "cells": [
  {
   "cell_type": "markdown",
   "id": "bb1c298a-1d0e-4500-9c51-7643f9f2c7b9",
   "metadata": {},
   "source": [
    "# Bruchdarstellung"
   ]
  },
  {
   "cell_type": "code",
   "execution_count": 1,
   "id": "62185159-ab8b-4973-9671-401493bfc92e",
   "metadata": {},
   "outputs": [
    {
     "data": {
      "text/plain": [
       "Fraction(3602879701896397, 36028797018963968)"
      ]
     },
     "execution_count": 1,
     "metadata": {},
     "output_type": "execute_result"
    }
   ],
   "source": [
    "from fractions import Fraction\n",
    "a = 0b11001100110011001100110011001100110011001100110011010\n",
    "b = 2**56\n",
    "Fraction(a, b)"
   ]
  },
  {
   "cell_type": "markdown",
   "id": "eee1fd3b-814b-4723-a014-4d057832c7a4",
   "metadata": {},
   "source": [
    "# Dezimaldarstellung"
   ]
  },
  {
   "cell_type": "code",
   "execution_count": 2,
   "id": "d5c80dd4-2db0-4409-ad6a-8a270c98c810",
   "metadata": {},
   "outputs": [
    {
     "data": {
      "text/plain": [
       "Decimal('0.1000000000000000055511151231257827021181583404541015625')"
      ]
     },
     "execution_count": 2,
     "metadata": {},
     "output_type": "execute_result"
    }
   ],
   "source": [
    "from decimal import Decimal\n",
    "Decimal(a/b)"
   ]
  },
  {
   "cell_type": "markdown",
   "id": "b8df6057-111e-4c46-8a1c-c122aedee759",
   "metadata": {},
   "source": [
    "oder insgesamt schneller:"
   ]
  },
  {
   "cell_type": "code",
   "execution_count": 3,
   "id": "6ae3feed-477a-4f07-8caa-995c3d16c687",
   "metadata": {},
   "outputs": [
    {
     "data": {
      "text/plain": [
       "Fraction(3602879701896397, 36028797018963968)"
      ]
     },
     "execution_count": 3,
     "metadata": {},
     "output_type": "execute_result"
    }
   ],
   "source": [
    "Fraction.from_float(0.1)"
   ]
  },
  {
   "cell_type": "code",
   "execution_count": 4,
   "id": "486b7b0d-d760-4934-99e4-4c4bba3896d1",
   "metadata": {},
   "outputs": [
    {
     "data": {
      "text/plain": [
       "Decimal('0.1000000000000000055511151231257827021181583404541015625')"
      ]
     },
     "execution_count": 4,
     "metadata": {},
     "output_type": "execute_result"
    }
   ],
   "source": [
    "Decimal.from_float(0.1)"
   ]
  },
  {
   "cell_type": "markdown",
   "id": "d8ced20b-09da-47cb-9515-6e5f008f1ba5",
   "metadata": {},
   "source": [
    "# Spezielle Werte"
   ]
  },
  {
   "cell_type": "markdown",
   "id": "b858b7f2-db6c-402b-aa3c-902c0a369a80",
   "metadata": {},
   "source": [
    "Es gibt eine positive sowie eine negative Null."
   ]
  },
  {
   "cell_type": "code",
   "execution_count": 1,
   "id": "6efefdd1-dfcc-4192-ab5b-cd8c7f4e532b",
   "metadata": {},
   "outputs": [
    {
     "data": {
      "text/plain": [
       "(0.0, -0.0)"
      ]
     },
     "execution_count": 1,
     "metadata": {},
     "output_type": "execute_result"
    }
   ],
   "source": [
    "0.0, -0.0"
   ]
  },
  {
   "cell_type": "code",
   "execution_count": 2,
   "id": "79eb6701-4596-4011-b9a7-73dfbc1f079a",
   "metadata": {},
   "outputs": [
    {
     "data": {
      "text/plain": [
       "True"
      ]
     },
     "execution_count": 2,
     "metadata": {},
     "output_type": "execute_result"
    }
   ],
   "source": [
    "-0.0 == 0.0"
   ]
  },
  {
   "cell_type": "code",
   "execution_count": 5,
   "id": "2eb281a5-7bbd-45e7-a831-28e8354783db",
   "metadata": {},
   "outputs": [
    {
     "data": {
      "text/plain": [
       "inf"
      ]
     },
     "execution_count": 5,
     "metadata": {},
     "output_type": "execute_result"
    }
   ],
   "source": [
    "a = 1e200 * 1e200\n",
    "a"
   ]
  },
  {
   "cell_type": "code",
   "execution_count": 7,
   "id": "0ef62047-2824-4c66-b9ae-bfbf41bf1555",
   "metadata": {},
   "outputs": [
    {
     "data": {
      "text/plain": [
       "(inf, -inf)"
      ]
     },
     "execution_count": 7,
     "metadata": {},
     "output_type": "execute_result"
    }
   ],
   "source": [
    "import math\n",
    "math.inf, -math.inf"
   ]
  },
  {
   "cell_type": "code",
   "execution_count": 8,
   "id": "441141e7-e11c-4088-8d67-6ec8dde7cb6e",
   "metadata": {},
   "outputs": [
    {
     "data": {
      "text/plain": [
       "nan"
      ]
     },
     "execution_count": 8,
     "metadata": {},
     "output_type": "execute_result"
    }
   ],
   "source": [
    "math.inf - math.inf"
   ]
  },
  {
   "cell_type": "code",
   "execution_count": 9,
   "id": "ef0f0c92-59a4-4daf-94d4-f98d9c48fadb",
   "metadata": {},
   "outputs": [
    {
     "ename": "ZeroDivisionError",
     "evalue": "division by zero",
     "output_type": "error",
     "traceback": [
      "\u001b[31m---------------------------------------------------------------------------\u001b[39m",
      "\u001b[31mZeroDivisionError\u001b[39m                         Traceback (most recent call last)",
      "\u001b[36mCell\u001b[39m\u001b[36m \u001b[39m\u001b[32mIn[9]\u001b[39m\u001b[32m, line 1\u001b[39m\n\u001b[32m----> \u001b[39m\u001b[32m1\u001b[39m \u001b[32;43m3\u001b[39;49m\u001b[43m/\u001b[49m\u001b[32;43m0\u001b[39;49m\n",
      "\u001b[31mZeroDivisionError\u001b[39m: division by zero"
     ]
    }
   ],
   "source": [
    "3/0"
   ]
  },
  {
   "cell_type": "code",
   "execution_count": 10,
   "id": "c8b36a50-23ee-4143-83c1-943d3b0a594f",
   "metadata": {},
   "outputs": [
    {
     "data": {
      "text/plain": [
       "nan"
      ]
     },
     "execution_count": 10,
     "metadata": {},
     "output_type": "execute_result"
    }
   ],
   "source": [
    "math.nan"
   ]
  },
  {
   "cell_type": "markdown",
   "id": "43f085c3-9a13-449f-9826-c898d39c605a",
   "metadata": {},
   "source": [
    "## Konsequenz"
   ]
  },
  {
   "cell_type": "markdown",
   "id": "d83ce17d-84cb-40d5-8bd7-56f948d3c14e",
   "metadata": {},
   "source": [
    "Niemals Vergleichsoperator im Zusammenhang mit Fließkommazahlen"
   ]
  },
  {
   "cell_type": "code",
   "execution_count": 12,
   "id": "b0cf1e1a-e5c0-43c0-9e38-c2033a884e7b",
   "metadata": {},
   "outputs": [
    {
     "data": {
      "text/plain": [
       "False"
      ]
     },
     "execution_count": 12,
     "metadata": {},
     "output_type": "execute_result"
    }
   ],
   "source": [
    "0.1 + 0.1 + 0.1 == 0.3"
   ]
  },
  {
   "cell_type": "code",
   "execution_count": 13,
   "id": "506b9e54-c826-433f-89dd-1c51adb78fc8",
   "metadata": {},
   "outputs": [
    {
     "data": {
      "text/plain": [
       "False"
      ]
     },
     "execution_count": 13,
     "metadata": {},
     "output_type": "execute_result"
    }
   ],
   "source": [
    "6 * 0.3 == 1.8"
   ]
  },
  {
   "cell_type": "code",
   "execution_count": null,
   "id": "c5bfce0d-cc26-4f80-baac-6cef63bae9e1",
   "metadata": {},
   "outputs": [],
   "source": []
  }
 ],
 "metadata": {
  "kernelspec": {
   "display_name": "Python 3 (ipykernel)",
   "language": "python",
   "name": "python3"
  },
  "language_info": {
   "codemirror_mode": {
    "name": "ipython",
    "version": 3
   },
   "file_extension": ".py",
   "mimetype": "text/x-python",
   "name": "python",
   "nbconvert_exporter": "python",
   "pygments_lexer": "ipython3",
   "version": "3.13.2"
  }
 },
 "nbformat": 4,
 "nbformat_minor": 5
}
